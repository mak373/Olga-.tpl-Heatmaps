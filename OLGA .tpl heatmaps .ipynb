{
 "cells": [
  {
   "cell_type": "markdown",
   "metadata": {},
   "source": [
    "# OLGA .tpl Heatmaps"
   ]
  },
  {
   "cell_type": "markdown",
   "metadata": {},
   "source": [
    "### Импорт необходимых библиотек"
   ]
  },
  {
   "cell_type": "code",
   "execution_count": 1,
   "metadata": {},
   "outputs": [],
   "source": [
    "import os\n",
    "import numpy as np\n",
    "import pandas as pd\n",
    "import pyfas as fa\n",
    "import seaborn as sns\n",
    "import matplotlib.pyplot as plt\n",
    "import matplotlib\n",
    "import re\n",
    "matplotlib.use('agg')"
   ]
  },
  {
   "cell_type": "markdown",
   "metadata": {},
   "source": [
    "### Исходные данные + вспомогательные функции"
   ]
  },
  {
   "cell_type": "code",
   "execution_count": 2,
   "metadata": {},
   "outputs": [],
   "source": [
    "timeValue = 1500                                                      #РАССМАТРИВАЕМЫЙ МОМЕНТ ВРЕМЕНИ В СЕКУНДАХ\n",
    "inputPath = r'C:\\Users\\makso\\OLGA\\Heatmap3'                           #ПУТЬ К ПАПКЕ СО ВСЕМИ PARAMETRIC STUDIES\n",
    "outputPath = r'C:\\Users\\makso\\OneDrive\\Рабочий стол\\VISUALISATION'    #ПУТЬ К ПАПКЕ ДЛЯ ВЫГРУЗКИ ТЕПЛОВЫХ КАРТ\n",
    "#_______________________________________________________________________________________________________________________________\n",
    "\n",
    "measureUnitDict = {'GOR': 'sm3/sm3', 'Pbh': 'bara', 'Pres':'bara',    # ЕСЛИ НУЖНОГО ПАРАМЕТРА НЕТ В СЛОВАРЕ,\n",
    "                   'Pwh':'bara','PI':'sm3/d/bar','QGST':'sMm3/d',     # ДОБАВИТЬ ЕГО С ЕД. ИЗМ. ПО АНАЛОГИИ С ДРУГИМИ\n",
    "                   'QLST':'sm3/d','QOST':'sm3/d','Tbh':'degC',\n",
    "                   'Tres':'degC','Twh':'degC','WC':'%'}\n",
    "\n",
    "fileList = []\n",
    "for file in os.walk(inputPath):                                       # ПОЛУЧЕНИЕ СПИСКА СО ВСЕМИ ПАПКАМИ И ФАЙЛАМИ\n",
    "        fileList.append(file)                                         # ВНУТРИ InputPath. \n",
    "                                                                      \n",
    "for i in range(1,len(fileList)):                                      # УДАЛЕНИЕ В ЛИСТЕ ФАЙЛОВ С РАСШИРЕНИЕМ НЕ .tpl \n",
    "    for file in fileList[i][2]:\n",
    "        if file.endswith('ppl') == True: \n",
    "            fileList[i][2].remove(file)\n",
    "        \n",
    "for i in range(1,len(fileList)):\n",
    "    for file in fileList[i][2]:\n",
    "        if file.endswith('rsw') == True: \n",
    "            fileList[i][2].remove(file)\n",
    "            \n",
    "for i in range(1,len(fileList)):\n",
    "    for file in fileList[i][2]:\n",
    "        if file.endswith('out') == True: \n",
    "            fileList[i][2].remove(file)\n",
    "            \n",
    "def find_nearest(array, value):                                       # ФУНКЦИЯ ДЛЯ НАХОЖДЕНИЯ ВРЕМЕНИ, БЛИЖАЙШЕГО К \n",
    "    array = np.asarray(array)                                         # ПРИСВОЕННОМУ timeValue\n",
    "    idx = (np.abs(array - value)).argmin()\n",
    "    return array[idx]"
   ]
  },
  {
   "cell_type": "markdown",
   "metadata": {},
   "source": [
    "### Построение тепловых карт + экспорт"
   ]
  },
  {
   "cell_type": "code",
   "execution_count": 27,
   "metadata": {},
   "outputs": [],
   "source": [
    "for i in range(1,len(fileList)):                                      # ИТЕРАЦИЯ ПО ПАПКАМ\n",
    "    df = fa.Tpl(str(fileList[i][0]) + \"/\" + fileList[i][2][0])\n",
    "    df = df.view_trends()\n",
    "    \n",
    "    positionList = df['Position'].tolist()\n",
    "    positionListMod = []\n",
    "    for file in positionList: positionListMod.append(re.split('_', file)[-1])\n",
    "        \n",
    "    indexList = df['Index'].tolist()\n",
    "    parameterList = df['Variable'].tolist()\n",
    "    unitList = df['Unit'].tolist()\n",
    "    constantList = re.findall(r'\\((.*?)\\)', fileList[i][2][0])               \n",
    "    n=re.findall(r'\\d\\.\\d+|\\d+',constantList[0], re.I)                       \n",
    "    a=re.findall(r'[a-zA-Z]+',constantList[0])                               \n",
    "    \n",
    "    constantString = ''\n",
    "    for j in range(0,len(a)): constantString+=a[j]+'='+n[j]+' '+str(measureUnitDict.get(a[j]))+'  '\n",
    "    \n",
    "    for q in range(len(parameterList)):                               # ИТЕРАЦИЯ ПО ПАРАМЕТРАМ\n",
    "        listOfTpl = []\n",
    "        xValueList = []\n",
    "        yValueList = []\n",
    "        y = 0\n",
    "        mapSize = int(len(fileList[i][2])**0.5)\n",
    "        x = np.empty((mapSize,mapSize))\n",
    "    \n",
    "        for file in fileList[i][2]:                                   # ИМПОРТ НЕОБХОДИМЫХ ДАННЫХ ИЗ ФАЙЛОВ В fileList\n",
    "            string = str(file).replace('.tpl','')\n",
    "            reList = re.split('_',string)\n",
    "            xParameter = reList[2]\n",
    "            yParameter = reList[-2]\n",
    "            xUnit = measureUnitDict.get(xParameter)\n",
    "            yUnit = measureUnitDict.get(yParameter)\n",
    "            xValueList.append(reList[-3])\n",
    "            yValueList.append(reList[-1])\n",
    "        \n",
    "        for z in range(mapSize):                                      # ЗАПОЛНЕНИЕ МАТРИЦЫ ДАННЫХ X\n",
    "            for j in range(mapSize):\n",
    "                listOfTpl.append(fa.Tpl(str(fileList[i][0]) + \"/\" + fileList[i][2][y]))\n",
    "                f = listOfTpl[y]\n",
    "                parameter = parameterList[q]\n",
    "                parameterInd = indexList[q]\n",
    "                parameterUnit = unitList[q]\n",
    "                f.extract(parameterInd)\n",
    "                x[j][z]=f.data[parameterInd][np.where(f.time ==find_nearest(f.time, timeValue))]\n",
    "                y+=1\n",
    "                \n",
    "        sns.set(rc={'figure.figsize':(6.5,7.5)})                      # ВИЗУАЛИЗАЦИЯ ДАННЫХ МАТРИЦЫ X\n",
    "        ax = sns.heatmap(x, cmap = 'Blues', linewidths = 0.7, linecolor = 'white', \n",
    "                            square = True, annot = True, fmt = '.3f', cbar = False, robust = True)\n",
    "        ax.xaxis.tick_bottom()\n",
    "        ax.yaxis.tick_left()\n",
    "        xticks_labels = [xValueList[mapSize*n] for n in range(0, mapSize)]\n",
    "        yticks_labels = [yValueList[n] for n in range(0, mapSize)]\n",
    "        plt.xticks(np.arange(mapSize) + .5, labels=xticks_labels)\n",
    "        plt.yticks(np.arange(mapSize) + .5, labels=yticks_labels, rotation = 0)\n",
    "        plt.xlabel(str(xParameter) + ', ' + str(xUnit))\n",
    "        plt.ylabel(str(yParameter) + ', ' + str(yUnit))\n",
    "        plt.suptitle('\\n{} [{}]\\n \\nPosition ={}        Time = {} sec.'.format(parameter, parameterUnit,positionListMod[q], \n",
    "                                                                               timeValue), fontsize = 14)\n",
    "        plt.title(constantString, fontsize = 10)\n",
    "        fig = ax.get_figure()                                        # СОХРАНЕНИЕ КАРТЫ В outputPath\n",
    "        fig.savefig(outputPath + \"/Study[{}]_{}_{}({}, {})\".format(i, parameter,\n",
    "                                             positionListMod[q],xParameter, yParameter), dpi=200)\n",
    "        plt.close()\n",
    "        plt.clf()"
   ]
  }
 ],
 "metadata": {
  "kernelspec": {
   "display_name": "Python 3",
   "language": "python",
   "name": "python3"
  },
  "language_info": {
   "codemirror_mode": {
    "name": "ipython",
    "version": 3
   },
   "file_extension": ".py",
   "mimetype": "text/x-python",
   "name": "python",
   "nbconvert_exporter": "python",
   "pygments_lexer": "ipython3",
   "version": "3.8.4"
  }
 },
 "nbformat": 4,
 "nbformat_minor": 4
}
